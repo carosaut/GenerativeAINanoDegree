{
 "cells": [
  {
   "cell_type": "markdown",
   "metadata": {},
   "source": [
    "Project: Sentiment classifer for Amazon reviews\n",
    "Dataset: Amazon Polarity - https://huggingface.co/datasets/fancyzhx/amazon_polarity\n",
    "Model: distilbert-base-uncased"
   ]
  },
  {
   "cell_type": "code",
   "execution_count": 1,
   "metadata": {},
   "outputs": [
    {
     "name": "stdout",
     "output_type": "stream",
     "text": [
      "Requirement already satisfied: torch in c:\\source\\generativeainanodegree-project1\\.venv\\lib\\site-packages (2.5.1)\n",
      "Requirement already satisfied: numpy in c:\\source\\generativeainanodegree-project1\\.venv\\lib\\site-packages (2.2.0)\n",
      "Requirement already satisfied: peft in c:\\source\\generativeainanodegree-project1\\.venv\\lib\\site-packages (0.14.0)\n",
      "Requirement already satisfied: datasets in c:\\source\\generativeainanodegree-project1\\.venv\\lib\\site-packages (3.2.0)\n",
      "Requirement already satisfied: transformers in c:\\source\\generativeainanodegree-project1\\.venv\\lib\\site-packages (4.47.0)\n",
      "Requirement already satisfied: typing-extensions>=4.8.0 in c:\\source\\generativeainanodegree-project1\\.venv\\lib\\site-packages (from torch) (4.12.2)\n",
      "Requirement already satisfied: filelock in c:\\source\\generativeainanodegree-project1\\.venv\\lib\\site-packages (from torch) (3.16.1)\n",
      "Requirement already satisfied: sympy==1.13.1 in c:\\source\\generativeainanodegree-project1\\.venv\\lib\\site-packages (from torch) (1.13.1)\n",
      "Requirement already satisfied: jinja2 in c:\\source\\generativeainanodegree-project1\\.venv\\lib\\site-packages (from torch) (3.1.4)\n",
      "Requirement already satisfied: fsspec in c:\\source\\generativeainanodegree-project1\\.venv\\lib\\site-packages (from torch) (2024.9.0)\n",
      "Requirement already satisfied: networkx in c:\\source\\generativeainanodegree-project1\\.venv\\lib\\site-packages (from torch) (3.4.2)\n",
      "Requirement already satisfied: mpmath<1.4,>=1.1.0 in c:\\source\\generativeainanodegree-project1\\.venv\\lib\\site-packages (from sympy==1.13.1->torch) (1.3.0)\n",
      "Requirement already satisfied: huggingface-hub>=0.25.0 in c:\\source\\generativeainanodegree-project1\\.venv\\lib\\site-packages (from peft) (0.26.5)\n",
      "Requirement already satisfied: tqdm in c:\\source\\generativeainanodegree-project1\\.venv\\lib\\site-packages (from peft) (4.67.1)\n",
      "Requirement already satisfied: psutil in c:\\source\\generativeainanodegree-project1\\.venv\\lib\\site-packages (from peft) (6.1.0)\n",
      "Requirement already satisfied: accelerate>=0.21.0 in c:\\source\\generativeainanodegree-project1\\.venv\\lib\\site-packages (from peft) (1.2.0)\n",
      "Requirement already satisfied: pyyaml in c:\\source\\generativeainanodegree-project1\\.venv\\lib\\site-packages (from peft) (6.0.2)\n",
      "Requirement already satisfied: safetensors in c:\\source\\generativeainanodegree-project1\\.venv\\lib\\site-packages (from peft) (0.4.5)\n",
      "Requirement already satisfied: packaging>=20.0 in c:\\source\\generativeainanodegree-project1\\.venv\\lib\\site-packages (from peft) (24.2)\n",
      "Requirement already satisfied: multiprocess<0.70.17 in c:\\source\\generativeainanodegree-project1\\.venv\\lib\\site-packages (from datasets) (0.70.16)\n",
      "Requirement already satisfied: pyarrow>=15.0.0 in c:\\source\\generativeainanodegree-project1\\.venv\\lib\\site-packages (from datasets) (18.1.0)\n",
      "Requirement already satisfied: dill<0.3.9,>=0.3.0 in c:\\source\\generativeainanodegree-project1\\.venv\\lib\\site-packages (from datasets) (0.3.8)\n",
      "Requirement already satisfied: aiohttp in c:\\source\\generativeainanodegree-project1\\.venv\\lib\\site-packages (from datasets) (3.11.10)\n",
      "Requirement already satisfied: pandas in c:\\source\\generativeainanodegree-project1\\.venv\\lib\\site-packages (from datasets) (2.2.3)\n",
      "Requirement already satisfied: xxhash in c:\\source\\generativeainanodegree-project1\\.venv\\lib\\site-packages (from datasets) (3.5.0)\n",
      "Requirement already satisfied: requests>=2.32.2 in c:\\source\\generativeainanodegree-project1\\.venv\\lib\\site-packages (from datasets) (2.32.3)\n",
      "Requirement already satisfied: tokenizers<0.22,>=0.21 in c:\\source\\generativeainanodegree-project1\\.venv\\lib\\site-packages (from transformers) (0.21.0)\n",
      "Requirement already satisfied: regex!=2019.12.17 in c:\\source\\generativeainanodegree-project1\\.venv\\lib\\site-packages (from transformers) (2024.11.6)\n",
      "Requirement already satisfied: frozenlist>=1.1.1 in c:\\source\\generativeainanodegree-project1\\.venv\\lib\\site-packages (from aiohttp->datasets) (1.5.0)\n",
      "Requirement already satisfied: yarl<2.0,>=1.17.0 in c:\\source\\generativeainanodegree-project1\\.venv\\lib\\site-packages (from aiohttp->datasets) (1.18.3)\n",
      "Requirement already satisfied: attrs>=17.3.0 in c:\\source\\generativeainanodegree-project1\\.venv\\lib\\site-packages (from aiohttp->datasets) (24.2.0)\n",
      "Requirement already satisfied: propcache>=0.2.0 in c:\\source\\generativeainanodegree-project1\\.venv\\lib\\site-packages (from aiohttp->datasets) (0.2.1)\n",
      "Requirement already satisfied: async-timeout<6.0,>=4.0 in c:\\source\\generativeainanodegree-project1\\.venv\\lib\\site-packages (from aiohttp->datasets) (5.0.1)\n",
      "Requirement already satisfied: aiohappyeyeballs>=2.3.0 in c:\\source\\generativeainanodegree-project1\\.venv\\lib\\site-packages (from aiohttp->datasets) (2.4.4)\n",
      "Requirement already satisfied: multidict<7.0,>=4.5 in c:\\source\\generativeainanodegree-project1\\.venv\\lib\\site-packages (from aiohttp->datasets) (6.1.0)\n",
      "Requirement already satisfied: aiosignal>=1.1.2 in c:\\source\\generativeainanodegree-project1\\.venv\\lib\\site-packages (from aiohttp->datasets) (1.3.1)\n",
      "Requirement already satisfied: idna<4,>=2.5 in c:\\source\\generativeainanodegree-project1\\.venv\\lib\\site-packages (from requests>=2.32.2->datasets) (3.10)\n",
      "Requirement already satisfied: urllib3<3,>=1.21.1 in c:\\source\\generativeainanodegree-project1\\.venv\\lib\\site-packages (from requests>=2.32.2->datasets) (2.2.3)\n",
      "Requirement already satisfied: certifi>=2017.4.17 in c:\\source\\generativeainanodegree-project1\\.venv\\lib\\site-packages (from requests>=2.32.2->datasets) (2024.8.30)\n",
      "Requirement already satisfied: charset-normalizer<4,>=2 in c:\\source\\generativeainanodegree-project1\\.venv\\lib\\site-packages (from requests>=2.32.2->datasets) (3.4.0)\n",
      "Requirement already satisfied: colorama in c:\\source\\generativeainanodegree-project1\\.venv\\lib\\site-packages (from tqdm->peft) (0.4.6)\n",
      "Requirement already satisfied: MarkupSafe>=2.0 in c:\\source\\generativeainanodegree-project1\\.venv\\lib\\site-packages (from jinja2->torch) (3.0.2)\n",
      "Requirement already satisfied: pytz>=2020.1 in c:\\source\\generativeainanodegree-project1\\.venv\\lib\\site-packages (from pandas->datasets) (2024.2)\n",
      "Requirement already satisfied: tzdata>=2022.7 in c:\\source\\generativeainanodegree-project1\\.venv\\lib\\site-packages (from pandas->datasets) (2024.2)\n",
      "Requirement already satisfied: python-dateutil>=2.8.2 in c:\\source\\generativeainanodegree-project1\\.venv\\lib\\site-packages (from pandas->datasets) (2.9.0.post0)\n",
      "Requirement already satisfied: six>=1.5 in c:\\source\\generativeainanodegree-project1\\.venv\\lib\\site-packages (from python-dateutil>=2.8.2->pandas->datasets) (1.17.0)\n",
      "Note: you may need to restart the kernel to use updated packages.\n"
     ]
    },
    {
     "name": "stderr",
     "output_type": "stream",
     "text": [
      "\n",
      "[notice] A new release of pip available: 22.2.2 -> 24.3.1\n",
      "[notice] To update, run: python.exe -m pip install --upgrade pip\n"
     ]
    }
   ],
   "source": [
    "%pip install torch numpy peft datasets transformers\n"
   ]
  },
  {
   "cell_type": "code",
   "execution_count": 3,
   "metadata": {},
   "outputs": [],
   "source": [
    "from transformers import TrainingArguments, Trainer, AutoModelForSequenceClassification\n",
    "from datasets import load_dataset\n",
    "import torch\n",
    "from peft import LoraConfig, get_peft_model\n",
    "from transformers import Trainer, AutoTokenizer\n",
    "import numpy as np\n"
   ]
  },
  {
   "cell_type": "code",
   "execution_count": 4,
   "metadata": {},
   "outputs": [
    {
     "name": "stderr",
     "output_type": "stream",
     "text": [
      "Map: 100%|██████████| 1000/1000 [00:00<00:00, 5656.19 examples/s]\n",
      "Map: 100%|██████████| 1000/1000 [00:00<00:00, 5541.70 examples/s]\n"
     ]
    }
   ],
   "source": [
    "# get test and train data and tokenize \n",
    "\n",
    "dataset = load_dataset(\"amazon_polarity\")\n",
    "\n",
    "train_dataset = dataset['train'].shuffle(seed=42).select(range(1000))\n",
    "test_dataset = dataset['test'].shuffle(seed=42).select(range(1000))\n",
    "\n",
    "tokenizer = AutoTokenizer.from_pretrained('distilbert-base-uncased')\n",
    "\n",
    "def process_text(example):\n",
    "    return tokenizer(example[\"content\"], truncation=True, padding=\"max_length\")\n",
    "\n",
    "tokenized_train_dataset = train_dataset.map(process_text, batched=True)\n",
    "tokenized_test_dataset = test_dataset.map(process_text, batched=True)"
   ]
  },
  {
   "cell_type": "code",
   "execution_count": 5,
   "metadata": {},
   "outputs": [
    {
     "name": "stderr",
     "output_type": "stream",
     "text": [
      "Some weights of DistilBertForSequenceClassification were not initialized from the model checkpoint at distilbert-base-uncased and are newly initialized: ['classifier.bias', 'classifier.weight', 'pre_classifier.bias', 'pre_classifier.weight']\n",
      "You should probably TRAIN this model on a down-stream task to be able to use it for predictions and inference.\n",
      "c:\\Source\\GenerativeAINanodegree-project1\\.venv\\lib\\site-packages\\transformers\\training_args.py:1575: FutureWarning: `evaluation_strategy` is deprecated and will be removed in version 4.46 of 🤗 Transformers. Use `eval_strategy` instead\n",
      "  warnings.warn(\n",
      "100%|██████████| 250/250 [02:41<00:00,  1.55it/s]"
     ]
    },
    {
     "name": "stdout",
     "output_type": "stream",
     "text": [
      "Initial Evaluation: {'eval_loss': 0.6944077014923096, 'eval_model_preparation_time': 0.0016, 'eval_accuracy': 0.489, 'eval_runtime': 162.0178, 'eval_samples_per_second': 6.172, 'eval_steps_per_second': 1.543}\n"
     ]
    },
    {
     "name": "stderr",
     "output_type": "stream",
     "text": [
      "\n"
     ]
    }
   ],
   "source": [
    "# load pretrained model \"distilbert-base-uncased\"\n",
    "\n",
    "model = AutoModelForSequenceClassification.from_pretrained('distilbert-base-uncased', \n",
    "id2label={0: \"NEGATIVE\", 1: \"POSITIVE\"},\n",
    "label2id={\"NEGATIVE\": 0, \"POSITIVE\": 1},\n",
    "num_labels=2)\n",
    "\n",
    "# args for training \n",
    "training_args = TrainingArguments(\n",
    "    output_dir=\"./results\",\n",
    "    per_device_eval_batch_size=4,\n",
    "    per_device_train_batch_size=4,\n",
    "    evaluation_strategy=\"epoch\",\n",
    "    num_train_epochs=5,\n",
    "    do_eval=True,\n",
    "    save_strategy='epoch',\n",
    ")\n",
    "\n",
    "def compute_metrics(eval_pred):\n",
    "    predictions, labels = eval_pred\n",
    "    predictions = np.argmax(predictions, axis=1)\n",
    "    return {'accuracy': (predictions == labels).mean()}\n",
    "\n",
    "# Initialize the Trainer\n",
    "trainer = Trainer(\n",
    "    model=model,\n",
    "    args=training_args,\n",
    "    eval_dataset=tokenized_test_dataset,\n",
    "    compute_metrics=compute_metrics,\n",
    "    train_dataset=tokenized_train_dataset\n",
    "\n",
    ")\n",
    "\n",
    "initial_evaluation = trainer.evaluate()\n",
    "print(\"Initial Evaluation:\", initial_evaluation) \n"
   ]
  },
  {
   "cell_type": "code",
   "execution_count": 6,
   "metadata": {},
   "outputs": [
    {
     "name": "stdout",
     "output_type": "stream",
     "text": [
      "trainable params: 6,160 || all params: 66,961,170 || trainable%: 0.0092\n"
     ]
    }
   ],
   "source": [
    "# turn model into peft model with lora, targeting classifer layer for training\n",
    "config = LoraConfig(target_modules=[\"classifier\"],)\n",
    "lora_model = get_peft_model(model, config)\n",
    "lora_model.print_trainable_parameters()"
   ]
  },
  {
   "cell_type": "code",
   "execution_count": 7,
   "metadata": {},
   "outputs": [
    {
     "name": "stderr",
     "output_type": "stream",
     "text": [
      "                                                 \n",
      " 20%|██        | 125/625 [07:44<19:55,  2.39s/it]"
     ]
    },
    {
     "name": "stdout",
     "output_type": "stream",
     "text": [
      "{'eval_runtime': 166.6899, 'eval_samples_per_second': 5.999, 'eval_steps_per_second': 0.75, 'epoch': 1.0}\n"
     ]
    },
    {
     "name": "stderr",
     "output_type": "stream",
     "text": [
      "                                                   \n",
      " 40%|████      | 250/625 [20:07<14:32,  2.33s/it]"
     ]
    },
    {
     "name": "stdout",
     "output_type": "stream",
     "text": [
      "{'eval_runtime': 445.4813, 'eval_samples_per_second': 2.245, 'eval_steps_per_second': 0.281, 'epoch': 2.0}\n"
     ]
    },
    {
     "name": "stderr",
     "output_type": "stream",
     "text": [
      "                                                     \n",
      " 60%|██████    | 375/625 [28:00<09:56,  2.39s/it]"
     ]
    },
    {
     "name": "stdout",
     "output_type": "stream",
     "text": [
      "{'eval_runtime': 173.9348, 'eval_samples_per_second': 5.749, 'eval_steps_per_second': 0.719, 'epoch': 3.0}\n"
     ]
    },
    {
     "name": "stderr",
     "output_type": "stream",
     "text": [
      " 80%|████████  | 500/625 [32:59<05:01,  2.41s/it]  "
     ]
    },
    {
     "name": "stdout",
     "output_type": "stream",
     "text": [
      "{'loss': 0.6944, 'grad_norm': 0.07308036834001541, 'learning_rate': 1e-05, 'epoch': 4.0}\n"
     ]
    },
    {
     "name": "stderr",
     "output_type": "stream",
     "text": [
      "                                                 \n",
      " 80%|████████  | 500/625 [35:49<05:01,  2.41s/it]"
     ]
    },
    {
     "name": "stdout",
     "output_type": "stream",
     "text": [
      "{'eval_runtime': 170.0917, 'eval_samples_per_second': 5.879, 'eval_steps_per_second': 0.735, 'epoch': 4.0}\n"
     ]
    },
    {
     "name": "stderr",
     "output_type": "stream",
     "text": [
      "                                                   \n",
      "100%|██████████| 625/625 [43:38<00:00,  2.38s/it]"
     ]
    },
    {
     "name": "stdout",
     "output_type": "stream",
     "text": [
      "{'eval_runtime': 166.9277, 'eval_samples_per_second': 5.991, 'eval_steps_per_second': 0.749, 'epoch': 5.0}\n"
     ]
    },
    {
     "name": "stderr",
     "output_type": "stream",
     "text": [
      "100%|██████████| 625/625 [43:38<00:00,  4.19s/it]\n"
     ]
    },
    {
     "name": "stdout",
     "output_type": "stream",
     "text": [
      "{'train_runtime': 2618.5554, 'train_samples_per_second': 1.909, 'train_steps_per_second': 0.239, 'train_loss': 0.6942584228515625, 'epoch': 5.0}\n"
     ]
    }
   ],
   "source": [
    "# create trainer and save trained model \n",
    "\n",
    "ft_training_args = TrainingArguments(\n",
    "    output_dir=\"./lora_results\",\n",
    "    per_device_eval_batch_size=8,\n",
    "    per_device_train_batch_size=8,\n",
    "    evaluation_strategy=\"epoch\",\n",
    "    num_train_epochs=5,\n",
    "    do_eval=True,\n",
    "    save_strategy='epoch',\n",
    ")\n",
    "\n",
    "ft_trainer = Trainer(\n",
    "    model=lora_model,\n",
    "    args=ft_training_args,\n",
    "    eval_dataset=tokenized_test_dataset,\n",
    "    compute_metrics=compute_metrics,\n",
    "    train_dataset=tokenized_train_dataset\n",
    "\n",
    ")\n",
    "\n",
    "ft_trainer.train()\n",
    "\n",
    "lora_model.save_pretrained(\"./fine-tuned\")"
   ]
  },
  {
   "cell_type": "code",
   "execution_count": 8,
   "metadata": {},
   "outputs": [
    {
     "name": "stderr",
     "output_type": "stream",
     "text": [
      "Some weights of DistilBertForSequenceClassification were not initialized from the model checkpoint at distilbert-base-uncased and are newly initialized: ['classifier.bias', 'classifier.weight', 'pre_classifier.bias', 'pre_classifier.weight']\n",
      "You should probably TRAIN this model on a down-stream task to be able to use it for predictions and inference.\n",
      "100%|██████████| 125/125 [02:47<00:00,  1.34s/it]"
     ]
    },
    {
     "name": "stdout",
     "output_type": "stream",
     "text": [
      "final evaluation: {'eval_loss': 0.6912226676940918, 'eval_model_preparation_time': 0.001, 'eval_accuracy': 0.539, 'eval_runtime': 168.7991, 'eval_samples_per_second': 5.924, 'eval_steps_per_second': 0.741}\n"
     ]
    },
    {
     "name": "stderr",
     "output_type": "stream",
     "text": [
      "\n"
     ]
    }
   ],
   "source": [
    "#evaluate fine tuned/trained model \n",
    "\n",
    "final_model = AutoModelForSequenceClassification.from_pretrained(\"./fine-tuned\")\n",
    "\n",
    "final_trainer = Trainer(\n",
    "\targs=ft_training_args,\n",
    "\tcompute_metrics=compute_metrics,\n",
    "\tmodel=final_model,\n",
    "\teval_dataset=tokenized_test_dataset,\n",
    "\ttrain_dataset=tokenized_train_dataset,\n",
    ")\n",
    "\n",
    "final_evaluation = final_trainer.evaluate()\n",
    "print(\"final evaluation:\", final_evaluation)"
   ]
  }
 ],
 "metadata": {
  "kernelspec": {
   "display_name": ".venv",
   "language": "python",
   "name": "python3"
  },
  "language_info": {
   "codemirror_mode": {
    "name": "ipython",
    "version": 3
   },
   "file_extension": ".py",
   "mimetype": "text/x-python",
   "name": "python",
   "nbconvert_exporter": "python",
   "pygments_lexer": "ipython3",
   "version": "3.10.7"
  }
 },
 "nbformat": 4,
 "nbformat_minor": 2
}
